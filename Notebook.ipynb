{
 "cells": [
  {
   "cell_type": "code",
   "execution_count": null,
   "id": "546804b2",
   "metadata": {},
   "outputs": [],
   "source": []
  },
  {
   "cell_type": "markdown",
   "id": "fca8314b",
   "metadata": {},
   "source": []
  },
  {
   "cell_type": "code",
   "execution_count": 6,
   "id": "cb23ad8c",
   "metadata": {},
   "outputs": [],
   "source": [
    "import pandas as pd # for working with data\n",
    "import numpy as np # for working with data\n",
    "import matplotlib.pyplot as plt\n"
   ]
  },
  {
   "cell_type": "code",
   "execution_count": 7,
   "id": "100f8979",
   "metadata": {},
   "outputs": [
    {
     "name": "stdout",
     "output_type": "stream",
     "text": [
      "<class 'pandas.core.frame.DataFrame'>\n",
      "RangeIndex: 27118 entries, 0 to 27117\n",
      "Columns: 126 entries, NFCSID to wgt_s3\n",
      "dtypes: float64(3), int64(83), object(40)\n",
      "memory usage: 26.1+ MB\n"
     ]
    }
   ],
   "source": [
    "state_data_df = pd.read_csv('./NFCS_2021_State_Data_220627.csv')\n",
    "state_data_df.info()\n",
    "state_data_df.describe()\n"
   ]
  },
  {
   "cell_type": "code",
   "execution_count": 8,
   "id": "99074838",
   "metadata": {},
   "outputs": [
    {
     "name": "stdout",
     "output_type": "stream",
     "text": [
      "<class 'pandas.core.frame.DataFrame'>\n",
      "RangeIndex: 27118 entries, 0 to 27117\n",
      "Columns: 126 entries, NFCSID to wgt_s3\n",
      "dtypes: float64(3), int64(83), object(40)\n",
      "memory usage: 26.1+ MB\n"
     ]
    },
    {
     "data": {
      "text/plain": [
       "Index(['NFCSID', 'STATEQ', 'CENSUSDIV', 'CENSUSREG', 'A50A', 'A3Ar_w', 'A50B',\n",
       "       'A4A_new_w', 'A5_2015', 'A6',\n",
       "       ...\n",
       "       'M6', 'M7', 'M8', 'M31', 'M50', 'M9', 'M10', 'wgt_n2', 'wgt_d2',\n",
       "       'wgt_s3'],\n",
       "      dtype='object', length=126)"
      ]
     },
     "execution_count": 8,
     "metadata": {},
     "output_type": "execute_result"
    }
   ],
   "source": [
    "state_data_df.info()\n",
    "state_data_df.columns"
   ]
  },
  {
   "cell_type": "markdown",
   "id": "88b4a8df",
   "metadata": {},
   "source": [
    "Important Variables: \n",
    "M20: Was financial education offered by a school or college you attended, or a workplace where you were employed?\n",
    "\n",
    "Dependent Variable:\n",
    "J4: In a typical month, how difficult is it for you to cover your expenses and pay all your bills?"
   ]
  }
 ],
 "metadata": {
  "kernelspec": {
   "display_name": "Python 3.10.0 64-bit",
   "language": "python",
   "name": "python3"
  },
  "language_info": {
   "codemirror_mode": {
    "name": "ipython",
    "version": 3
   },
   "file_extension": ".py",
   "mimetype": "text/x-python",
   "name": "python",
   "nbconvert_exporter": "python",
   "pygments_lexer": "ipython3",
   "version": "3.10.0"
  },
  "vscode": {
   "interpreter": {
    "hash": "aee8b7b246df8f9039afb4144a1f6fd8d2ca17a180786b69acc140d282b71a49"
   }
  }
 },
 "nbformat": 4,
 "nbformat_minor": 5
}
