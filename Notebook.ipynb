{
 "cells": [
  {
   "cell_type": "code",
   "execution_count": null,
   "id": "f014a70d",
   "metadata": {},
   "outputs": [],
   "source": [
    "import pandas as pd # for working with data\n",
    "import numpy as np # for working with data\n"
   ]
  },
  {
   "cell_type": "code",
   "execution_count": null,
   "id": "cfe9abce",
   "metadata": {},
   "outputs": [],
   "source": [
    "state_data_df = pd.read_csv('./pb_compas.csv')"
   ]
  }
 ],
 "metadata": {
  "kernelspec": {
   "display_name": "Python 3 (ipykernel)",
   "language": "python",
   "name": "python3"
  },
  "language_info": {
   "codemirror_mode": {
    "name": "ipython",
    "version": 3
   },
   "file_extension": ".py",
   "mimetype": "text/x-python",
   "name": "python",
   "nbconvert_exporter": "python",
   "pygments_lexer": "ipython3",
   "version": "3.9.12"
  }
 },
 "nbformat": 4,
 "nbformat_minor": 5
}
